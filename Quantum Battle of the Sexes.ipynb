{
 "cells": [
  {
   "cell_type": "code",
   "execution_count": null,
   "metadata": {},
   "outputs": [],
   "source": [
    "from qiskit import IBMQ\n",
    "import qiskit as q\n",
    "qasm_sim = q.Aer.get_backend('qasm_simulator')                  #simulator backend\n",
    "statevec_sim = q.Aer.get_backend(\"statevector_simulator\") #state vector simulator backend\n",
    "backend = qasm_sim"
   ]
  },
  {
   "cell_type": "code",
   "execution_count": null,
   "metadata": {},
   "outputs": [],
   "source": [
    "from matplotlib import style\n",
    "%matplotlib inline\n",
    "\n",
    "shots_num = 1000 #numbers of shots in experiment\n",
    "\n",
    "def run_exp(circuit, bcknd):  \n",
    "    num_qubits = circuit.num_qubits\n",
    "    circuit.measure([i for i in range(num_qubits)], [i for i in range(num_qubits)])\n",
    "\n",
    "    result = q.execute(circuit, backend=bcknd, shots=shots_num).result()\n",
    "    counts = result.get_counts()\n",
    "    \n",
    "    return counts"
   ]
  },
  {
   "cell_type": "code",
   "execution_count": null,
   "metadata": {},
   "outputs": [],
   "source": [
    "def run_statevector(circuit, bcknd): \n",
    "    job = q.execute(circuit, backend=bcknd)\n",
    "    result = job.result()\n",
    "    statevec = result.get_statevector()\n",
    "    return statevec"
   ]
  },
  {
   "cell_type": "code",
   "execution_count": null,
   "metadata": {},
   "outputs": [],
   "source": [
    "def my_range(start, end, step):\n",
    "    while start <= end:\n",
    "        yield start\n",
    "        start += step"
   ]
  },
  {
   "cell_type": "code",
   "execution_count": null,
   "metadata": {},
   "outputs": [],
   "source": [
    "#setting payoffs\n",
    "D = 3;\n",
    "S = 2;\n",
    "P = 0;"
   ]
  },
  {
   "cell_type": "code",
   "execution_count": null,
   "metadata": {},
   "outputs": [],
   "source": [
    "from scipy.interpolate import BSpline, make_interp_spline\n",
    "#function to draw a plot\n",
    "def draw_plot(plt,x,y,name):\n",
    "    plt.ylabel('Payoff, $')\n",
    "    plt.xlabel('Entanglement degree, γ')\n",
    "    plt.ylim(P, D, 1)\n",
    "\n",
    "    x_new = np.linspace(0, 1, 50)\n",
    "    a_BSpline = make_interp_spline(x, y)\n",
    "    y_new = a_BSpline(x_new)\n",
    "    plt.plot(x_new, y_new, label =name)\n",
    "  \n",
    "    plt.legend(loc='best')\n",
    "    font = {'family' : 'Times New Roman',\n",
    "            'weight' : 'regular',\n",
    "            'size'   : 18}\n",
    "\n",
    "    plt.rc('font', **font)\n",
    "    fig = plt.gcf()\n",
    "    fig.set_size_inches(10, 8)"
   ]
  },
  {
   "cell_type": "code",
   "execution_count": null,
   "metadata": {},
   "outputs": [],
   "source": [
    "from qiskit.circuit import QuantumRegister, QuantumCircuit, ClassicalRegister\n",
    "from qiskit.quantum_info.operators import Operator, Pauli\n",
    "import cmath, math, numpy as np\n",
    "\n",
    "def getQC(gamma):\n",
    "    qbits = QuantumRegister(2)\n",
    "    clbits = ClassicalRegister(2)\n",
    "    qc = QuantumCircuit(qbits, clbits)\n",
    "    \n",
    "    J = 1/math.sqrt(1+gamma*gamma)*Operator(Operator(Pauli(label='II'))+complex(0,gamma)*Operator(Pauli(label='XX'))) #entangling operator J\n",
    "\n",
    "    theta = math.pi/2\n",
    "    phi = 0\n",
    "    lmbda = 0\n",
    "  \n",
    "    qc.unitary(J, [0, 1])\n",
    "    qc.u3(theta, phi, lmbda, [0])                #Alice's rotation operator\n",
    "    qc.u3(theta, phi, -math.pi/2 - lmbda, [1])   #Bob's rotation operator\n",
    "    qc.unitary(J.adjoint(), [0, 1])\n",
    "    return qc"
   ]
  },
  {
   "cell_type": "code",
   "execution_count": null,
   "metadata": {},
   "outputs": [],
   "source": [
    "import csv\n",
    "import datetime\n",
    "\n",
    "Alice_payoff = np.array([]) #Alice's payoff funtion\n",
    "Bob_payoff = np.array([])   #Bob's payoff funtion\n",
    "x = np.array([])            #x axis for plot\n",
    "\n",
    "counts = {'00': 0, '01': 0, '10': 0, '11': 0}\n",
    "\n",
    "for gamma in my_range(0, 1, 0.1):\n",
    "    qc = getQC(gamma)\n",
    "    result = run_exp(qc, backend)        #runs experiment\n",
    "    counts.update(result)\n",
    "\n",
    "    Alice_average_payoff = (D * counts['00'] + P * (counts['01'] + counts['10']) + S * counts['11'])/shots_num\n",
    "    Bob_average_payoff = (S * counts['00'] + P * (counts['01'] + counts['10']) + D * counts['11'])/shots_num  \n",
    "    Alice_payoff = np.append(Alice_payoff, Alice_average_payoff)\n",
    "    Bob_payoff = np.append(Bob_payoff, Bob_average_payoff)\n",
    "    x = np.append(x, gamma)"
   ]
  },
  {
   "cell_type": "code",
   "execution_count": null,
   "metadata": {},
   "outputs": [],
   "source": [
    "import matplotlib.pyplot as plt\n",
    "#displaying plot\n",
    "fig = plt.gcf()\n",
    "draw_plot(plt,x,Alice_payoff,\"Alice\")\n",
    "draw_plot(plt,x,Bob_payoff,\"Bob\")\n",
    "plt.show()\n",
    "plt.draw()\n",
    "#fig.savefig(\"plot_\"+backend.name()+'_'+now.strftime(\"%Y-%m-%d %H-%M-%S\")+\".png\", dpi=100)"
   ]
  },
  {
   "cell_type": "markdown",
   "metadata": {},
   "source": [
    "plot_histogram([counts], legend=['output'])"
   ]
  },
  {
   "cell_type": "code",
   "execution_count": null,
   "metadata": {},
   "outputs": [],
   "source": [
    "from qiskit.tools.visualization import plot_bloch_multivector\n",
    "#show state vector of the maximally entangled state\n",
    "statevec = run_statevector(getQC(1.0), statevec_sim)\n",
    "plot_bloch_multivector(statevec)"
   ]
  },
  {
   "cell_type": "code",
   "execution_count": null,
   "metadata": {},
   "outputs": [],
   "source": []
  },
  {
   "cell_type": "code",
   "execution_count": null,
   "metadata": {},
   "outputs": [],
   "source": []
  }
 ],
 "metadata": {
  "kernelspec": {
   "display_name": "Python 3",
   "language": "python",
   "name": "python3"
  },
  "language_info": {
   "codemirror_mode": {
    "name": "ipython",
    "version": 3
   },
   "file_extension": ".py",
   "mimetype": "text/x-python",
   "name": "python",
   "nbconvert_exporter": "python",
   "pygments_lexer": "ipython3",
   "version": "3.7.7"
  }
 },
 "nbformat": 4,
 "nbformat_minor": 4
}
